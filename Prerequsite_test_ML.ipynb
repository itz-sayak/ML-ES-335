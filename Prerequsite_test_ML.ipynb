{
  "nbformat": 4,
  "nbformat_minor": 0,
  "metadata": {
    "colab": {
      "provenance": [],
      "authorship_tag": "ABX9TyM6+1oJc8FLSsiE12iIttAw",
      "include_colab_link": true
    },
    "kernelspec": {
      "name": "python3",
      "display_name": "Python 3"
    },
    "language_info": {
      "name": "python"
    }
  },
  "cells": [
    {
      "cell_type": "markdown",
      "metadata": {
        "id": "view-in-github",
        "colab_type": "text"
      },
      "source": [
        "<a href=\"https://colab.research.google.com/github/itz-sayak/ML-ES-335/blob/main/Prerequsite_test_ML.ipynb\" target=\"_parent\"><img src=\"https://colab.research.google.com/assets/colab-badge.svg\" alt=\"Open In Colab\"/></a>"
      ]
    },
    {
      "cell_type": "markdown",
      "source": [
        "#### 13. Write a function to compute the argmin of a numpy array. The function should take a numpy array as input and return the index of the minimum element. You can use the `np.argmin` function to verify your solution."
      ],
      "metadata": {
        "id": "fUeQ_As6CNwB"
      }
    },
    {
      "source": [
        "import numpy as np\n",
        "\n",
        "def find_argmin(arr):\n",
        "  \"\"\"\n",
        "  Finds the index of the minimum element in a numpy array.\n",
        "\n",
        "  Args:\n",
        "    arr: A numpy array.\n",
        "\n",
        "  Returns:\n",
        "    The index of the minimum element.\n",
        "  \"\"\"\n",
        "  min_index = 0\n",
        "  for i in range(1, len(arr)):\n",
        "    if arr[i] < arr[min_index]:\n",
        "      min_index = i\n",
        "  return min_index\n",
        "\n",
        "# Example usage\n",
        "arr = np.array([2,3,8,7,6,8,1,5,6,0,5])\n",
        "argmin_index = find_argmin(arr)\n",
        "print(f\"Index of minimum element: {argmin_index}\")\n",
        "\n",
        "# Verify using np.argmin\n",
        "print(f\"Verification using np.argmin: {np.argmin(arr)}\")"
      ],
      "cell_type": "code",
      "metadata": {
        "colab": {
          "base_uri": "https://localhost:8080/"
        },
        "id": "Fjzgy-MrCD5L",
        "outputId": "1e31c36b-e2b8-484e-9176-b9ceff7cd382"
      },
      "execution_count": 4,
      "outputs": [
        {
          "output_type": "stream",
          "name": "stdout",
          "text": [
            "Index of minimum element: 9\n",
            "Verification using np.argmin: 9\n"
          ]
        }
      ]
    },
    {
      "cell_type": "markdown",
      "source": [
        "#### 12. Write a small piece of code to explain broadcasting in numpy"
      ],
      "metadata": {
        "id": "RUIijHdPCNsm"
      }
    },
    {
      "source": [
        "import numpy as np\n",
        "\n",
        "# Create a simple array\n",
        "a = np.array([1, 2, 3])\n",
        "\n",
        "# Add a scalar to the array (broadcasting the scalar)\n",
        "b = a + 5\n",
        "print('Add a scalar to the array:',b)  # Output: [6 7 8]\n",
        "\n",
        "# Create a matrix\n",
        "matrix = np.array([[1, 2, 3], [4, 5, 6]])\n",
        "\n",
        "# Add a row vector to the matrix (broadcasting the vector)\n",
        "row_vector = np.array([10, 20, 30])\n",
        "result = matrix + row_vector\n",
        "print('Add a row vector to the matrix:', result)\n",
        "# Output:\n",
        "# [[11 22 33]\n",
        "#  [14 25 36]]"
      ],
      "cell_type": "code",
      "metadata": {
        "colab": {
          "base_uri": "https://localhost:8080/"
        },
        "id": "IhAZVGYUDCc2",
        "outputId": "5c5a833d-032d-40d4-ac99-d804897fb1b0"
      },
      "execution_count": 7,
      "outputs": [
        {
          "output_type": "stream",
          "name": "stdout",
          "text": [
            "Add a scalar to the array: [6 7 8]\n",
            "Add a row vector to the matrix: [[11 22 33]\n",
            " [14 25 36]]\n"
          ]
        }
      ]
    },
    {
      "cell_type": "markdown",
      "source": [
        "#### 10. Using numpy generate a matrix of size $ 20X5 $ containing random numbers drawn uniformly from the range of 1 to 2. Using Pandas create a dataframe out of this matrix. Name the columns of the dataframe as $ “a”, “b”, “c”, “d”, “e” $. Find the column with the highest standard deviation. Find the row with the lowest mean."
      ],
      "metadata": {
        "id": "cBg7a1J8HHir"
      }
    },
    {
      "cell_type": "code",
      "source": [
        "import pandas as pd\n",
        "import numpy as np\n",
        "\n",
        "# Generate a 20x5 matrix with random numbers drawn uniformly from the range of 1 to 2\n",
        "matrix = np.random.uniform(1, 2, size=(20, 5))\n",
        "\n",
        "# Create a DataFrame from this matrix and name the columns 'a', 'b', 'c', 'd', 'e'\n",
        "df = pd.DataFrame(matrix, columns=['a', 'b', 'c', 'd', 'e'])\n",
        "\n",
        "# Find the column with the highest standard deviation\n",
        "col_with_max_std = df.std().idxmax()\n",
        "\n",
        "# Find the row with the lowest mean\n",
        "row_with_min_mean = df.mean(axis=1).idxmin()\n",
        "\n",
        "col_with_max_std, row_with_min_mean"
      ],
      "metadata": {
        "colab": {
          "base_uri": "https://localhost:8080/"
        },
        "id": "Kp6otG_rEwYN",
        "outputId": "acc17ed8-c643-46fe-f413-dfa228055f68"
      },
      "execution_count": 10,
      "outputs": [
        {
          "output_type": "execute_result",
          "data": {
            "text/plain": [
              "('c', 13)"
            ]
          },
          "metadata": {},
          "execution_count": 10
        }
      ]
    },
    {
      "cell_type": "markdown",
      "source": [
        "#### 11. Add a new column to the dataframe called “f” which is the sum of the columns “a”, “b”, “c”, “d”, “e”. Create another column called “g”. The value in the column “g” should be “LT8” if the value in the column “f” is less than 8 and “GT8” otherwise. Find the number of rows in the dataframe where the value in the column “g” is “LT8”. Find the standard deviation of the column “f” for the rows where the value in the column “g” is “LT8” and “GT8” respectively."
      ],
      "metadata": {
        "id": "X2X7ubwGD8Pe"
      }
    },
    {
      "cell_type": "code",
      "source": [
        "# Add new column 'f' which is the sum of columns \"a\", \"b\", \"c\", \"d\", \"e\"\n",
        "df['f'] = df.sum(axis=1)\n",
        "\n",
        "# Add new column 'g' which is \"LT8\" if 'f' < 8 and \"GT8\" otherwise\n",
        "df['g'] = df['f'].apply(lambda x: 'LT8' if x < 8 else 'GT8')\n",
        "\n",
        "# Find the number of rows where 'g' is \"LT8\"\n",
        "lt8_count = df[df['g'] == 'LT8'].shape[0]\n",
        "\n",
        "# Find the standard deviation of 'f' for rows where 'g' is \"LT8\"\n",
        "lt8_std = df[df['g'] == 'LT8']['f'].std()\n",
        "\n",
        "# Find the standard deviation of 'f' for rows where 'g' is \"GT8\"\n",
        "gt8_std = df[df['g'] == 'GT8']['f'].std()\n",
        "\n",
        "print(f\"Number of rows where 'g' is 'LT8': {lt8_count}\")\n",
        "print(f\"Standard deviation of 'f' for rows where 'g' is 'LT8': {lt8_std}\")\n",
        "print(f\"Standard deviation of 'f' for rows where 'g' is 'GT8': {gt8_std}\")"
      ],
      "metadata": {
        "colab": {
          "base_uri": "https://localhost:8080/"
        },
        "id": "UOSqdKShD8n3",
        "outputId": "26756270-e118-4702-90ed-eba6c56bd69a"
      },
      "execution_count": 11,
      "outputs": [
        {
          "output_type": "stream",
          "name": "stdout",
          "text": [
            "Number of rows where 'g' is 'LT8': 17\n",
            "Standard deviation of 'f' for rows where 'g' is 'LT8': 0.577418513677576\n",
            "Standard deviation of 'f' for rows where 'g' is 'GT8': 0.31417730956696044\n"
          ]
        }
      ]
    },
    {
      "cell_type": "markdown",
      "source": [
        "#### 9. Using matplotlib, plot the following functions on the domain: x = 0.5 to 100.0 in steps of 0.5\n",
        "\n",
        "i. $ y = x $\n",
        "\n",
        "ii. $ y = x^2 $\n",
        "\n",
        "iii. $ y = \\frac{x^3}{100} $\n",
        "\n",
        "iv. $ y = sin(x)^2 $\n",
        "\n",
        "v. $ y = \\frac{\\sin(x)}{x} $\n",
        "\n",
        "vi. $ y = \\log(x) $\n",
        "\n",
        "vii. $ y = e^x $\n"
      ],
      "metadata": {
        "id": "qzTfzB-jL2_a"
      }
    },
    {
      "cell_type": "code",
      "source": [
        "import numpy as np\n",
        "import matplotlib.pyplot as plt\n",
        "\n",
        "# Define the domain\n",
        "x = np.arange(0.5, 100.5, 0.5)\n",
        "\n",
        "# Define the functions\n",
        "y1 = x\n",
        "y2 = x**2\n",
        "y3 = x**3 / 100\n",
        "y4 = np.sin(x)**2\n",
        "y5 = np.sin(x) / x\n",
        "y6 = np.log(x)\n",
        "y7 = np.exp(x)\n",
        "\n",
        "# Create the plots with new figsize and colors\n",
        "plt.figure(figsize=(14, 10))\n",
        "\n",
        "plt.subplot(3, 3, 1)\n",
        "plt.plot(x, y1, label='y = x', color='magenta')\n",
        "plt.legend()\n",
        "\n",
        "plt.subplot(3, 3, 2)\n",
        "plt.plot(x, y2, label='y = x^2', color='cyan')\n",
        "plt.legend()\n",
        "\n",
        "plt.subplot(3, 3, 3)\n",
        "plt.plot(x, y3, label='y = x^3 / 100', color='lime')\n",
        "plt.legend()\n",
        "\n",
        "plt.subplot(3, 3, 4)\n",
        "plt.plot(x, y4, label='y = sin(x)^2', color='gold')\n",
        "plt.legend()\n",
        "\n",
        "plt.subplot(3, 3, 5)\n",
        "plt.plot(x, y5, label='y = sin(x) / x', color='teal')\n",
        "plt.legend()\n",
        "\n",
        "plt.subplot(3, 3, 6)\n",
        "plt.plot(x, y6, label='y = log(x)', color='salmon')\n",
        "plt.legend()\n",
        "\n",
        "plt.subplot(3, 3, 7)\n",
        "plt.plot(x, y7, label='y = e^x', color='navy')\n",
        "plt.legend()\n",
        "plt.ylim(0, 2e10)  # Set y-axis limit to avoid overflow\n",
        "\n",
        "plt.tight_layout()\n",
        "plt.show()\n"
      ],
      "metadata": {
        "colab": {
          "base_uri": "https://localhost:8080/",
          "height": 809
        },
        "id": "MQbdXt21Gp_e",
        "outputId": "1c006de3-5d62-4a94-8c61-2028940d5b0d"
      },
      "execution_count": 19,
      "outputs": [
        {
          "output_type": "display_data",
          "data": {
            "text/plain": [
              "<Figure size 1400x1000 with 7 Axes>"
            ],
            "image/png": "[encoded data removed]"
          },
          "metadata": {}
        }
      ]
    },
    {
      "cell_type": "markdown",
      "source": [
        "#### 2. Write Python code to multiply the above two matrices. Solve using list of lists and then use numpy. Compare the timing of both solutions. Which one is faster? Why?"
      ],
      "metadata": {
        "id": "6hUGqS8UTyP6"
      }
    },
    {
      "cell_type": "markdown",
      "source": [
        "For smaller Matrices"
      ],
      "metadata": {
        "id": "QnK1DfhETJ0v"
      }
    },
    {
      "cell_type": "code",
      "source": [
        "import numpy as np\n",
        "import time\n",
        "\n",
        "# Sample matrices\n",
        "matrix1 = [[1, 2, 3], [4, 5, 6], [7, 8, 9]]\n",
        "matrix2 = [[9, 8, 7], [6, 5, 4], [3, 2, 1]]\n",
        "\n",
        "# 1. Matrix Multiplication using List of Lists\n",
        "def matrix_multiply_lists(mat1, mat2):\n",
        "    result = [[0 for _ in range(len(mat2[0]))] for _ in range(len(mat1))]\n",
        "    for i in range(len(mat1)):\n",
        "        for j in range(len(mat2[0])):\n",
        "            for k in range(len(mat2)):\n",
        "                result[i][j] += mat1[i][k] * mat2[k][j]\n",
        "    return result\n",
        "\n",
        "# Measure time for list of lists method\n",
        "start_time = time.time()\n",
        "result_lists = matrix_multiply_lists(matrix1, matrix2)\n",
        "time_lists = time.time() - start_time\n",
        "\n",
        "# 2. Matrix Multiplication using NumPy\n",
        "mat1_np = np.array(matrix1)\n",
        "mat2_np = np.array(matrix2)\n",
        "\n",
        "start_time = time.time()\n",
        "result_numpy = np.dot(mat1_np, mat2_np)\n",
        "time_numpy = time.time() - start_time\n",
        "\n",
        "# Output the results\n",
        "print(\"Result using list of lists:\\n\", result_lists)\n",
        "print(\"Time taken using list of lists:\", time_lists)\n",
        "\n",
        "print(\"\\nResult using NumPy:\\n\", result_numpy)\n",
        "print(\"Time taken using NumPy:\", time_numpy)\n",
        "\n",
        "# Comparison\n",
        "if time_lists > time_numpy:\n",
        "    print(\"\\nNumPy is faster by\", time_lists - time_numpy, \"seconds.\")\n",
        "else:\n",
        "    print(\"\\nList of lists is faster by\", time_numpy - time_lists, \"seconds.\")\n"
      ],
      "metadata": {
        "colab": {
          "base_uri": "https://localhost:8080/"
        },
        "id": "Y4-6nS5gI4VK",
        "outputId": "c8cfd6b5-6527-489d-966e-65cb4563e97e"
      },
      "execution_count": 20,
      "outputs": [
        {
          "output_type": "stream",
          "name": "stdout",
          "text": [
            "Result using list of lists:\n",
            " [[30, 24, 18], [84, 69, 54], [138, 114, 90]]\n",
            "Time taken using list of lists: 0.00013136863708496094\n",
            "\n",
            "Result using NumPy:\n",
            " [[ 30  24  18]\n",
            " [ 84  69  54]\n",
            " [138 114  90]]\n",
            "Time taken using NumPy: 0.0002951622009277344\n",
            "\n",
            "List of lists is faster by 0.00016379356384277344 seconds.\n"
          ]
        }
      ]
    },
    {
      "cell_type": "markdown",
      "source": [
        "For Larger Matrices"
      ],
      "metadata": {
        "id": "MR6EbBxQTkfe"
      }
    },
    {
      "cell_type": "code",
      "source": [
        "import numpy as np\n",
        "import time\n",
        "\n",
        "# Generate random matrices\n",
        "np.random.seed(42)  # For reproducibility\n",
        "matrix1 = np.random.rand(100, 200).tolist()  # Convert NumPy array to list of lists\n",
        "matrix2 = np.random.rand(200, 150).tolist()\n",
        "\n",
        "# 1. Matrix Multiplication using List of Lists\n",
        "def matrix_multiply_lists(mat1, mat2):\n",
        "    result = [[0 for _ in range(len(mat2[0]))] for _ in range(len(mat1))]\n",
        "    for i in range(len(mat1)):\n",
        "        for j in range(len(mat2[0])):\n",
        "            for k in range(len(mat2)):\n",
        "                result[i][j] += mat1[i][k] * mat2[k][j]\n",
        "    return result\n",
        "\n",
        "# Measure time for list of lists method\n",
        "start_time = time.time()\n",
        "result_lists = matrix_multiply_lists(matrix1, matrix2)\n",
        "time_lists = time.time() - start_time\n",
        "\n",
        "# 2. Matrix Multiplication using NumPy\n",
        "mat1_np = np.array(matrix1)\n",
        "mat2_np = np.array(matrix2)\n",
        "\n",
        "start_time = time.time()\n",
        "result_numpy = np.dot(mat1_np, mat2_np)\n",
        "time_numpy = time.time() - start_time\n",
        "\n",
        "# Output the results (not printing the full matrices because they're large)\n",
        "print(\"Time taken using list of lists:\", time_lists)\n",
        "print(\"Time taken using NumPy:\", time_numpy)\n",
        "\n",
        "# Comparison\n",
        "if time_lists > time_numpy:\n",
        "    print(\"\\nNumPy is faster by\", time_lists - time_numpy, \"seconds.\")\n",
        "else:\n",
        "    print(\"\\nList of lists is faster by\", time_numpy - time_lists, \"seconds.\")\n"
      ],
      "metadata": {
        "colab": {
          "base_uri": "https://localhost:8080/"
        },
        "id": "3fqcHAulPH1v",
        "outputId": "f06b9541-f4a2-4910-aba4-a105b3a49c16"
      },
      "execution_count": 21,
      "outputs": [
        {
          "output_type": "stream",
          "name": "stdout",
          "text": [
            "Time taken using list of lists: 2.5675606727600098\n",
            "Time taken using NumPy: 0.0008225440979003906\n",
            "\n",
            "NumPy is faster by 2.5667381286621094 seconds.\n"
          ]
        }
      ]
    },
    {
      "cell_type": "markdown",
      "source": [
        "For larger matrices, NumPy is significantly faster, which is expected given its optimized implementation for numerical operations. For smaller matrices, the time difference is negligible, and sometimes lists of lists might even be slightly faster due to lower overhead in these cases.\n",
        "\n",
        "In general, NumPy excels with larger datasets and more complex operations due to its following properties:\n",
        "\n",
        "**1. Low-Level Optimizations:**\n",
        "\n",
        "- **BLAS (Basic Linear Algebra Subprograms):** NumPy often leverages optimized low-level libraries like BLAS for linear algebra operations. BLAS implementations, such as OpenBLAS or Intel's MKL, are highly optimized for performance on different hardware architectures.\n",
        "- **Parallelism:** These libraries can perform computations in parallel across multiple CPU cores, significantly speeding up operations.\n",
        "\n",
        "**2. Efficient Memory Access:**\n",
        "\n",
        "- **Contiguous Memory:** NumPy arrays are stored in contiguous blocks of memory, which allows for efficient access patterns and reduces overhead from cache misses.\n",
        "- **Stride Optimization:** NumPy uses strides to navigate array elements efficiently, minimizing the need for complex indexing.\n",
        "\n",
        "**3. Broadcasting and Vectorization:**\n",
        "\n",
        "- **Vectorized Operations:** NumPy performs operations in a vectorized manner, meaning that operations are applied simultaneously to entire arrays or slices of arrays rather than element by element.\n",
        "- **Broadcasting:** This feature allows NumPy to perform operations on arrays of different shapes without needing to explicitly replicate data, which can improve performance.\n",
        "\n",
        "**4. Algorithmic Optimizations:**\n",
        "\n",
        "- **Algorithm Choice:** For matrix multiplication, NumPy uses efficient algorithms such as Strassen’s algorithm or its variants when appropriate, which can reduce the computational complexity compared to naive methods.\n",
        "\n",
        "**5. Compilation and Just-In-Time (JIT) Compilation:**\n",
        "\n",
        "- **Compiled Code:** NumPy operations are often implemented in C or Fortran, which are compiled languages and can run faster than Python code."
      ],
      "metadata": {
        "id": "JMYNTBHUVkNr"
      }
    },
    {
      "cell_type": "markdown",
      "source": [
        "### 1. How many multiplications and additions do you need to perform a matrix multiplication between a $ (n, k) $ and $ (k, m) $ matrix? Explain."
      ],
      "metadata": {
        "id": "EpC2mS2s6wiH"
      }
    },
    {
      "cell_type": "markdown",
      "source": [
        "Matrix multiplication involves the calculation of the product of two matrices, and to obtain that we need to perform several additions and multiplications between the elements.\n",
        "\n",
        "Let's say a matrix $ A(n,k) $ and matrix $ B(k,m) $ which when multiplied will give us a resultant matrix $ C(n,m) $.\n",
        "\n",
        "Generally, to calculate one resultant element let's say $ C[i][j] $, we have to multiply each element of the i-th row of matrix A with the corresponding element in the j-th column of the matrix B.\n",
        "\n",
        "So we can say, $ C[i][j] = A[i][1] * B[1][j] + A[i][2] * B[2][j] + A[i][3] * B[3][j] + ..... + A[i][k] * B[k][j] $\n",
        "\n",
        "Therefore we can conclude that we are performing `k` multiplications and `k-1` additions for each element.\n",
        "\n",
        "And again there are total $ n * m $ elements in the resultant matrix hence we need :\n",
        "\n",
        "Total multiplication : $n*m*k$,\n",
        "Total additions : $n*m*(k-1)$\n",
        "\n",
        "Example:\n",
        "\n",
        "Let's take an example of two matrices A(2,3) and B(3,2),\n",
        "\n",
        "Matrix A :\n",
        "\n",
        "$ \\begin{bmatrix}\n",
        "1 & 2 & 3 \\\\\n",
        "4 & 5 & 6\n",
        "\\end{bmatrix}  $\n",
        "\n",
        "Matrix B :\n",
        "\n",
        "$ \\begin{bmatrix}\n",
        "7 & 8 \\\\\n",
        "9 & 10 \\\\\n",
        "11 & 12\n",
        "\\end{bmatrix}  $\n",
        "\n",
        "The resultant matrix will be C(2,2)\n",
        "\n",
        "1. $ C[1][1] = (1*7)+(2*9)+(3*11) $\n",
        "2. $ C[1][2] = (1*8)+(2*10)+(3*12) $\n",
        "3. $ C[2][1] = (4*7)+(5*9)+(6*11) $\n",
        "4. $ C[1][2] = (4*8)+(5*10)+(6*12) $\n",
        "\n",
        "Here we can notice that the total number of :\n",
        "\n",
        "1. Multiplication = $n*m*k = 2*2*3 = 12$\n",
        "2. Addition = $n*m*(k-1) = 2*2*2 = 8$"
      ],
      "metadata": {
        "id": "zySo4XH07BHI"
      }
    },
    {
      "cell_type": "markdown",
      "source": [
        "#### 4. What is the gradient of the following function with respect to x and y?\n",
        "\n",
        "###  $ x²y + y³ sin(x) $"
      ],
      "metadata": {
        "id": "Ns0TX0gW76s2"
      }
    },
    {
      "cell_type": "markdown",
      "source": [
        "To find the gradient of the function $ f(x, y) = x^2 y + y^3 \\sin(x) $, we compute the partial derivatives with respect to $( x ) $ and $( y )$.\n",
        "\n",
        "1. **Partial derivative with respect to \\( x \\)**:\n",
        "\n",
        "   \n",
        "   $ \\frac{\\partial f}{\\partial x} = \\frac{\\partial}{\\partial x} (x^2 y + y^3 \\sin(x)) $\n",
        "   \n",
        "\n",
        "\n",
        "   Therefore,\n",
        "\n",
        "   \n",
        "   $ \\frac{\\partial f}{\\partial x} = 2xy + y^3 \\cos(x) $\n",
        "   \n",
        "\n",
        "2. **Partial derivative with respect to \\( y \\)**:\n",
        "\n",
        "   \n",
        "   $ \\frac{\\partial f}{\\partial y} = \\frac{\\partial}{\\partial y} (x^2 y + y^3 \\sin(x)) $\n",
        "\n",
        "\n",
        "   Therefore,\n",
        "\n",
        "   \n",
        "  $ \\frac{\\partial f}{\\partial y} = x^2 + 3y^2 \\sin(x) $\n",
        "\n",
        "So, the gradient of the function $ f(x, y)) $ is:\n",
        "\n",
        "\n",
        "$ \\nabla f(x, y) = \\left( \\frac{\\partial f}{\\partial x}, \\frac{\\partial f}{\\partial y} \\right) = \\left( 2xy + y^3 \\cos(x), x^2 + 3y^2 \\sin(x) \\right) $\n"
      ],
      "metadata": {
        "id": "xiVwM4R-77G-"
      }
    },
    {
      "cell_type": "markdown",
      "source": [
        "#### 5. Use `Pytorch` to confirm the gradient evaluated by your method matches the analytical solution corresponding to a few random values of x and y"
      ],
      "metadata": {
        "id": "uD8rWqWfDWlr"
      }
    },
    {
      "cell_type": "code",
      "source": [
        "import torch\n",
        "import numpy as np\n",
        "\n",
        "# Define the function using PyTorch\n",
        "def f(x, y):\n",
        "    return x**2 * y + y**3 * torch.sin(x)\n",
        "\n",
        "# Analytical gradients\n",
        "def analytical_df_dx(x, y):\n",
        "    return 2 * x * y + y**3 * np.cos(x)\n",
        "\n",
        "def analytical_df_dy(x, y):\n",
        "    return x**2 + 3 * y**2 * np.sin(x)\n",
        "\n",
        "# Generate random values of x and y\n",
        "np.random.seed(0)  # for reproducibility\n",
        "random_values = np.random.rand(5, 2) * 10  # 5 random pairs of (x, y) between 0 and 10\n",
        "\n",
        "# Compare the gradients\n",
        "for (x_val, y_val) in random_values:\n",
        "    x_val_tensor = torch.tensor(x_val, requires_grad=True)\n",
        "    y_val_tensor = torch.tensor(y_val, requires_grad=True)\n",
        "\n",
        "    # Compute the function value\n",
        "    z = f(x_val_tensor, y_val_tensor)\n",
        "\n",
        "    # Compute the gradients using PyTorch\n",
        "    z.backward()\n",
        "\n",
        "    # Extract the gradients\n",
        "    pytorch_dx = x_val_tensor.grad.item()\n",
        "    pytorch_dy = y_val_tensor.grad.item()\n",
        "\n",
        "    # Analytical gradients\n",
        "    analytical_dx = analytical_df_dx(x_val, y_val)\n",
        "    analytical_dy = analytical_df_dy(x_val, y_val)\n",
        "\n",
        "    print(f\"At (x, y) = ({x_val:.2f}, {y_val:.2f}):\")\n",
        "    print(f\"PyTorch ∂f/∂x = {pytorch_dx:.4f}, Analytical ∂f/∂x = {analytical_dx:.4f}\")\n",
        "    print(f\"PyTorch ∂f/∂y = {pytorch_dy:.4f}, Analytical ∂f/∂y = {analytical_dy:.4f}\\n\")\n"
      ],
      "metadata": {
        "colab": {
          "base_uri": "https://localhost:8080/"
        },
        "id": "dekYM1WwDGG2",
        "outputId": "fd7a3ddf-0c7f-4c46-dcc7-b8c3bc6d376f"
      },
      "execution_count": 9,
      "outputs": [
        {
          "output_type": "stream",
          "name": "stdout",
          "text": [
            "At (x, y) = (5.49, 7.15):\n",
            "PyTorch ∂f/∂x = 334.6636, Analytical ∂f/∂x = 334.6636\n",
            "PyTorch ∂f/∂y = -79.4273, Analytical ∂f/∂y = -79.4273\n",
            "\n",
            "At (x, y) = (6.03, 5.45):\n",
            "PyTorch ∂f/∂x = 222.2079, Analytical ∂f/∂x = 222.2079\n",
            "PyTorch ∂f/∂y = 13.8175, Analytical ∂f/∂y = 13.8175\n",
            "\n",
            "At (x, y) = (4.24, 6.46):\n",
            "PyTorch ∂f/∂x = -68.7057, Analytical ∂f/∂x = -68.7057\n",
            "PyTorch ∂f/∂y = -93.3018, Analytical ∂f/∂y = -93.3018\n",
            "\n",
            "At (x, y) = (4.38, 8.92):\n",
            "PyTorch ∂f/∂x = -156.1300, Analytical ∂f/∂x = -156.1300\n",
            "PyTorch ∂f/∂y = -206.0478, Analytical ∂f/∂y = -206.0478\n",
            "\n",
            "At (x, y) = (9.64, 3.83):\n",
            "PyTorch ∂f/∂x = 18.7856, Analytical ∂f/∂x = 18.7856\n",
            "PyTorch ∂f/∂y = 83.5900, Analytical ∂f/∂y = 83.5900\n",
            "\n"
          ]
        }
      ]
    },
    {
      "cell_type": "markdown",
      "source": [
        "#### 6. Use sympy to confirm that you obtain the same gradient analytically."
      ],
      "metadata": {
        "id": "NOyMynkF98_A"
      }
    },
    {
      "cell_type": "code",
      "source": [
        "import sympy as sp\n",
        "\n",
        "# Define the variables\n",
        "x, y = sp.symbols('x y')\n",
        "\n",
        "# Define the function\n",
        "f = x**2 * y + y**3 * sp.sin(x)\n",
        "\n",
        "# Compute the partial derivatives\n",
        "df_dx = sp.diff(f, x)\n",
        "df_dy = sp.diff(f, y)\n",
        "\n",
        "# Display the partial derivatives\n",
        "print(f\"∂f/∂x = {df_dx}\")\n",
        "print(f\"∂f/∂y = {df_dy}\")\n"
      ],
      "metadata": {
        "colab": {
          "base_uri": "https://localhost:8080/"
        },
        "id": "rD85Lb2B_RqJ",
        "outputId": "ab483a6d-8df9-4d47-f790-c6e975b48a74"
      },
      "execution_count": 5,
      "outputs": [
        {
          "output_type": "stream",
          "name": "stdout",
          "text": [
            "∂f/∂x = 2*x*y + y**3*cos(x)\n",
            "∂f/∂y = x**2 + 3*y**2*sin(x)\n"
          ]
        }
      ]
    },
    {
      "cell_type": "markdown",
      "source": [
        "#### 7. Create a Python nested dictionary to represent hierarchical information. We want to store record of students and their marks. Something like:\n",
        "\n",
        "    1. 2022\n",
        "        1. Branch 1\n",
        "                Roll Number: 1,\n",
        "                Name: N,\n",
        "                Marks:\n",
        "                    Maths: 100,\n",
        "                    English: 70 ...\n",
        "        2. Branch 2\n",
        "    2. 2023\n",
        "        1. Branch 1\n",
        "        2. Branch 2\n",
        "    3. 2024\n",
        "        1. Branch 1\n",
        "        2. Branch 2\n",
        "    4. 2025\n",
        "        1. Branch 1\n",
        "        2. Branch 2"
      ],
      "metadata": {
        "id": "CZyP0B1bA-4t"
      }
    },
    {
      "cell_type": "code",
      "source": [
        "students_records = {\n",
        "    2022: {\n",
        "        'Branch 1': {\n",
        "            1: {\n",
        "                'Name': 'Alice',\n",
        "                'Marks': {\n",
        "                    'Maths': 100,\n",
        "                    'English': 70,\n",
        "                    'Science': 85\n",
        "                }\n",
        "            },\n",
        "            2: {\n",
        "                'Name': 'Bob',\n",
        "                'Marks': {\n",
        "                    'Maths': 95,\n",
        "                    'English': 80,\n",
        "                    'Science': 90\n",
        "                }\n",
        "            }\n",
        "        },\n",
        "        'Branch 2': {\n",
        "            1: {\n",
        "                'Name': 'Charlie',\n",
        "                'Marks': {\n",
        "                    'Maths': 88,\n",
        "                    'English': 76,\n",
        "                    'Science': 80\n",
        "                }\n",
        "            },\n",
        "            2: {\n",
        "                'Name': 'David',\n",
        "                'Marks': {\n",
        "                    'Maths': 92,\n",
        "                    'English': 85,\n",
        "                    'Science': 89\n",
        "                }\n",
        "            }\n",
        "        }\n",
        "    },\n",
        "    2023: {\n",
        "        'Branch 1': {\n",
        "            1: {\n",
        "                'Name': 'Eve',\n",
        "                'Marks': {\n",
        "                    'Maths': 78,\n",
        "                    'English': 88,\n",
        "                    'Science': 82\n",
        "                }\n",
        "            },\n",
        "            2: {\n",
        "                'Name': 'Frank',\n",
        "                'Marks': {\n",
        "                    'Maths': 85,\n",
        "                    'English': 79,\n",
        "                    'Science': 88\n",
        "                }\n",
        "            }\n",
        "        },\n",
        "        'Branch 2': {\n",
        "            1: {\n",
        "                'Name': 'Grace',\n",
        "                'Marks': {\n",
        "                    'Maths': 90,\n",
        "                    'English': 85,\n",
        "                    'Science': 87\n",
        "                }\n",
        "            },\n",
        "            2: {\n",
        "                'Name': 'Hank',\n",
        "                'Marks': {\n",
        "                    'Maths': 80,\n",
        "                    'English': 70,\n",
        "                    'Science': 75\n",
        "                }\n",
        "            }\n",
        "        }\n",
        "    },\n",
        "    2024: {\n",
        "        'Branch 1': {\n",
        "            1: {\n",
        "                'Name': 'Ivy',\n",
        "                'Marks': {\n",
        "                    'Maths': 88,\n",
        "                    'English': 90,\n",
        "                    'Science': 85\n",
        "                }\n",
        "            },\n",
        "            2: {\n",
        "                'Name': 'Jack',\n",
        "                'Marks': {\n",
        "                    'Maths': 92,\n",
        "                    'English': 87,\n",
        "                    'Science': 91\n",
        "                }\n",
        "            }\n",
        "        },\n",
        "        'Branch 2': {\n",
        "            1: {\n",
        "                'Name': 'Kate',\n",
        "                'Marks': {\n",
        "                    'Maths': 81,\n",
        "                    'English': 78,\n",
        "                    'Science': 80\n",
        "                }\n",
        "            },\n",
        "            2: {\n",
        "                'Name': 'Leo',\n",
        "                'Marks': {\n",
        "                    'Maths': 85,\n",
        "                    'English': 82,\n",
        "                    'Science': 83\n",
        "                }\n",
        "            }\n",
        "        }\n",
        "    },\n",
        "    2025: {\n",
        "        'Branch 1': {\n",
        "            1: {\n",
        "                'Name': 'Mia',\n",
        "                'Marks': {\n",
        "                    'Maths': 89,\n",
        "                    'English': 91,\n",
        "                    'Science': 90\n",
        "                }\n",
        "            },\n",
        "            2: {\n",
        "                'Name': 'Nate',\n",
        "                'Marks': {\n",
        "                    'Maths': 87,\n",
        "                    'English': 85,\n",
        "                    'Science': 86\n",
        "                }\n",
        "            }\n",
        "        },\n",
        "        'Branch 2': {\n",
        "            1: {\n",
        "                'Name': 'Olivia',\n",
        "                'Marks': {\n",
        "                    'Maths': 92,\n",
        "                    'English': 89,\n",
        "                    'Science': 91\n",
        "                }\n",
        "            },\n",
        "            2: {\n",
        "                'Name': 'Paul',\n",
        "                'Marks': {\n",
        "                    'Maths': 90,\n",
        "                    'English': 88,\n",
        "                    'Science': 87\n",
        "                }\n",
        "            }\n",
        "        }\n",
        "    }\n",
        "}\n",
        "\n",
        "# Example of how to access a specific student's marks\n",
        "print(students_records[2022]['Branch 1'][1]['Marks'])\n"
      ],
      "metadata": {
        "colab": {
          "base_uri": "https://localhost:8080/"
        },
        "id": "hZd77HSqA_fp",
        "outputId": "ac2ad12d-1b29-48de-eea6-11e9591e161f"
      },
      "execution_count": 6,
      "outputs": [
        {
          "output_type": "stream",
          "name": "stdout",
          "text": [
            "{'Maths': 100, 'English': 70, 'Science': 85}\n"
          ]
        }
      ]
    },
    {
      "cell_type": "markdown",
      "source": [
        "#### 8. Store the same information using Python classes. We have an overall database which is a list of year objects. Each year contains a list of branches. Each branch contains a list of students. Each student has some properties like name, roll number and has marks in some subjects."
      ],
      "metadata": {
        "id": "ruYe_JPtB2lI"
      }
    },
    {
      "cell_type": "code",
      "source": [
        "class Student:\n",
        "    def __init__(self, roll_number, name, marks):\n",
        "        self.roll_number = roll_number\n",
        "        self.name = name\n",
        "        self.marks = marks\n",
        "\n",
        "    def __repr__(self):\n",
        "        return f\"Student(Roll Number: {self.roll_number}, Name: {self.name}, Marks: {self.marks})\"\n",
        "\n",
        "\n",
        "class Branch:\n",
        "    def __init__(self, name):\n",
        "        self.name = name\n",
        "        self.students = []\n",
        "\n",
        "    def add_student(self, student):\n",
        "        self.students.append(student)\n",
        "\n",
        "    def __repr__(self):\n",
        "        return f\"Branch(Name: {self.name}, Students: {self.students})\"\n",
        "\n",
        "\n",
        "class Year:\n",
        "    def __init__(self, year):\n",
        "        self.year = year\n",
        "        self.branches = []\n",
        "\n",
        "    def add_branch(self, branch):\n",
        "        self.branches.append(branch)\n",
        "\n",
        "    def __repr__(self):\n",
        "        return f\"Year({self.year}, Branches: {self.branches})\"\n",
        "\n",
        "\n",
        "class Database:\n",
        "    def __init__(self):\n",
        "        self.years = []\n",
        "\n",
        "    def add_year(self, year):\n",
        "        self.years.append(year)\n",
        "\n",
        "    def __repr__(self):\n",
        "        return f\"Database(Years: {self.years})\"\n",
        "\n",
        "\n",
        "# Create the database\n",
        "database = Database()\n",
        "\n",
        "# Create years\n",
        "year_2022 = Year(2022)\n",
        "year_2023 = Year(2023)\n",
        "year_2024 = Year(2024)\n",
        "year_2025 = Year(2025)\n",
        "\n",
        "# Create branches for 2022\n",
        "branch1_2022 = Branch('Branch 1')\n",
        "branch2_2022 = Branch('Branch 2')\n",
        "\n",
        "# Add students to branches\n",
        "branch1_2022.add_student(Student(1, 'Alice', {'Maths': 100, 'English': 70, 'Science': 85}))\n",
        "branch1_2022.add_student(Student(2, 'Bob', {'Maths': 95, 'English': 80, 'Science': 90}))\n",
        "\n",
        "branch2_2022.add_student(Student(1, 'Charlie', {'Maths': 88, 'English': 76, 'Science': 80}))\n",
        "branch2_2022.add_student(Student(2, 'David', {'Maths': 92, 'English': 85, 'Science': 89}))\n",
        "\n",
        "# Add branches to the year\n",
        "year_2022.add_branch(branch1_2022)\n",
        "year_2022.add_branch(branch2_2022)\n",
        "\n",
        "# Similarly, create branches and add students for other years\n",
        "\n",
        "# For 2023\n",
        "branch1_2023 = Branch('Branch 1')\n",
        "branch2_2023 = Branch('Branch 2')\n",
        "\n",
        "branch1_2023.add_student(Student(1, 'Eve', {'Maths': 78, 'English': 88, 'Science': 82}))\n",
        "branch1_2023.add_student(Student(2, 'Frank', {'Maths': 85, 'English': 79, 'Science': 88}))\n",
        "\n",
        "branch2_2023.add_student(Student(1, 'Grace', {'Maths': 90, 'English': 85, 'Science': 87}))\n",
        "branch2_2023.add_student(Student(2, 'Hank', {'Maths': 80, 'English': 70, 'Science': 75}))\n",
        "\n",
        "year_2023.add_branch(branch1_2023)\n",
        "year_2023.add_branch(branch2_2023)\n",
        "\n",
        "# For 2024\n",
        "branch1_2024 = Branch('Branch 1')\n",
        "branch2_2024 = Branch('Branch 2')\n",
        "\n",
        "branch1_2024.add_student(Student(1, 'Ivy', {'Maths': 88, 'English': 90, 'Science': 85}))\n",
        "branch1_2024.add_student(Student(2, 'Jack', {'Maths': 92, 'English': 87, 'Science': 91}))\n",
        "\n",
        "branch2_2024.add_student(Student(1, 'Kate', {'Maths': 81, 'English': 78, 'Science': 80}))\n",
        "branch2_2024.add_student(Student(2, 'Leo', {'Maths': 85, 'English': 82, 'Science': 83}))\n",
        "\n",
        "year_2024.add_branch(branch1_2024)\n",
        "year_2024.add_branch(branch2_2024)\n",
        "\n",
        "# For 2025\n",
        "branch1_2025 = Branch('Branch 1')\n",
        "branch2_2025 = Branch('Branch 2')\n",
        "\n",
        "branch1_2025.add_student(Student(1, 'Mia', {'Maths': 89, 'English': 91, 'Science': 90}))\n",
        "branch1_2025.add_student(Student(2, 'Nate', {'Maths': 87, 'English': 85, 'Science': 86}))\n",
        "\n",
        "branch2_2025.add_student(Student(1, 'Olivia', {'Maths': 92, 'English': 89, 'Science': 91}))\n",
        "branch2_2025.add_student(Student(2, 'Paul', {'Maths': 90, 'English': 88, 'Science': 87}))\n",
        "\n",
        "year_2025.add_branch(branch1_2025)\n",
        "year_2025.add_branch(branch2_2025)\n",
        "\n",
        "# Add years to the database\n",
        "database.add_year(year_2022)\n",
        "database.add_year(year_2023)\n",
        "database.add_year(year_2024)\n",
        "database.add_year(year_2025)\n",
        "\n",
        "# Display the database\n",
        "print(database)"
      ],
      "metadata": {
        "colab": {
          "base_uri": "https://localhost:8080/"
        },
        "id": "CnxSHmTsB6NK",
        "outputId": "1cbf080e-a49c-4b22-8c23-c6987036cae5"
      },
      "execution_count": 7,
      "outputs": [
        {
          "output_type": "stream",
          "name": "stdout",
          "text": [
            "Database(Years: [Year(2022, Branches: [Branch(Name: Branch 1, Students: [Student(Roll Number: 1, Name: Alice, Marks: {'Maths': 100, 'English': 70, 'Science': 85}), Student(Roll Number: 2, Name: Bob, Marks: {'Maths': 95, 'English': 80, 'Science': 90})]), Branch(Name: Branch 2, Students: [Student(Roll Number: 1, Name: Charlie, Marks: {'Maths': 88, 'English': 76, 'Science': 80}), Student(Roll Number: 2, Name: David, Marks: {'Maths': 92, 'English': 85, 'Science': 89})])]), Year(2023, Branches: [Branch(Name: Branch 1, Students: [Student(Roll Number: 1, Name: Eve, Marks: {'Maths': 78, 'English': 88, 'Science': 82}), Student(Roll Number: 2, Name: Frank, Marks: {'Maths': 85, 'English': 79, 'Science': 88})]), Branch(Name: Branch 2, Students: [Student(Roll Number: 1, Name: Grace, Marks: {'Maths': 90, 'English': 85, 'Science': 87}), Student(Roll Number: 2, Name: Hank, Marks: {'Maths': 80, 'English': 70, 'Science': 75})])]), Year(2024, Branches: [Branch(Name: Branch 1, Students: [Student(Roll Number: 1, Name: Ivy, Marks: {'Maths': 88, 'English': 90, 'Science': 85}), Student(Roll Number: 2, Name: Jack, Marks: {'Maths': 92, 'English': 87, 'Science': 91})]), Branch(Name: Branch 2, Students: [Student(Roll Number: 1, Name: Kate, Marks: {'Maths': 81, 'English': 78, 'Science': 80}), Student(Roll Number: 2, Name: Leo, Marks: {'Maths': 85, 'English': 82, 'Science': 83})])]), Year(2025, Branches: [Branch(Name: Branch 1, Students: [Student(Roll Number: 1, Name: Mia, Marks: {'Maths': 89, 'English': 91, 'Science': 90}), Student(Roll Number: 2, Name: Nate, Marks: {'Maths': 87, 'English': 85, 'Science': 86})]), Branch(Name: Branch 2, Students: [Student(Roll Number: 1, Name: Olivia, Marks: {'Maths': 92, 'English': 89, 'Science': 91}), Student(Roll Number: 2, Name: Paul, Marks: {'Maths': 90, 'English': 88, 'Science': 87})])])])\n"
          ]
        }
      ]
    },
    {
      "cell_type": "markdown",
      "source": [],
      "metadata": {
        "id": "dwtpzQlBHP9E"
      }
    },
    {
      "cell_type": "markdown",
      "source": [
        "### Finding the Median of an Array\n",
        "\n",
        "Finding the median of an array using the method where you repeatedly find the highest element and remove it has a time complexity of $O(n^2)$ in the worst case. This is because you would need to perform $O(n)$ passes to find the median, and each pass takes $O(n)$ time, leading to $ O(n)*O(n) = O(n^2)$.\n",
        "\n",
        "A more efficient method to find the median is to use the Quickselect algorithm, which has an average time complexity of $ O(n) $. Quickselect is similar to QuickSort but only focuses on finding the k-th smallest element, which in the case of the median is the $ \\lceil \\frac{n}{2} \\rceil-th $ smallest element.\n",
        "\n",
        "Let's implement both methods in Python and compare them against the `numpy.median` routine in terms of time."
      ],
      "metadata": {
        "id": "bW6l30iYHTDP"
      }
    },
    {
      "cell_type": "code",
      "source": [
        "import numpy as np\n",
        "import time\n",
        "\n",
        "# Method 1: Repeatedly Finding the Highest Element\n",
        "\n",
        "def find_median_repeated(array):\n",
        "    sorted_array = []\n",
        "    while len(array) > 0:\n",
        "        max_element = max(array)\n",
        "        array.remove(max_element)\n",
        "        sorted_array.insert(0, max_element)\n",
        "    n = len(sorted_array)\n",
        "    if n % 2 == 1:\n",
        "        return sorted_array[n // 2]\n",
        "    else:\n",
        "        return (sorted_array[n // 2 - 1] + sorted_array[n // 2]) / 2\n",
        "\n",
        "# Method 2: Quickselect Algorithm\n",
        "\n",
        "def quickselect(arr, k):\n",
        "    if len(arr) == 1:\n",
        "        return arr[0]\n",
        "\n",
        "    pivot = arr[len(arr) // 2]\n",
        "\n",
        "    lows = [el for el in arr if el < pivot]\n",
        "    highs = [el for el in arr if el > pivot]\n",
        "    pivots = [el for el in arr if el == pivot]\n",
        "\n",
        "    if k < len(lows):\n",
        "        return quickselect(lows, k)\n",
        "    elif k < len(lows) + len(pivots):\n",
        "        return pivots[0]\n",
        "    else:\n",
        "        return quickselect(highs, k - len(lows) - len(pivots))\n",
        "\n",
        "def find_median_quickselect(array):\n",
        "    n = len(array)\n",
        "    if n % 2 == 1:\n",
        "        return quickselect(array, n // 2)\n",
        "    else:\n",
        "        return 0.5 * (quickselect(array, n // 2 - 1) + quickselect(array, n // 2))\n",
        "\n",
        "# Comparing with NumPy's Median\n",
        "\n",
        "def compare_median_methods():\n",
        "    np.random.seed(0)\n",
        "    array = np.random.randint(0, 10000, size=10000).tolist()\n",
        "\n",
        "    start_time = time.time()\n",
        "    median_repeated = find_median_repeated(array.copy())\n",
        "    time_repeated = time.time() - start_time\n",
        "\n",
        "    start_time = time.time()\n",
        "    median_quickselect = find_median_quickselect(array.copy())\n",
        "    time_quickselect = time.time() - start_time\n",
        "\n",
        "    start_time = time.time()\n",
        "    median_numpy = np.median(array)\n",
        "    time_numpy = time.time() - start_time\n",
        "\n",
        "    print(f\"Median (Repeatedly Finding Highest): {median_repeated}, Time: {time_repeated:.6f} seconds\")\n",
        "    print(f\"Median (Quickselect): {median_quickselect}, Time: {time_quickselect:.6f} seconds\")\n",
        "    print(f\"Median (NumPy): {median_numpy}, Time: {time_numpy:.6f} seconds\")\n",
        "\n",
        "compare_median_methods()\n",
        "\n"
      ],
      "metadata": {
        "colab": {
          "base_uri": "https://localhost:8080/"
        },
        "id": "DJBejrQPHQSy",
        "outputId": "6f595430-6046-4f81-bcb3-7dde83b9766d"
      },
      "execution_count": 14,
      "outputs": [
        {
          "output_type": "stream",
          "name": "stdout",
          "text": [
            "Median (Repeatedly Finding Highest): 4950.0, Time: 1.185952 seconds\n",
            "Median (Quickselect): 4950.0, Time: 0.009661 seconds\n",
            "Median (NumPy): 4950.0, Time: 0.009810 seconds\n"
          ]
        }
      ]
    },
    {
      "cell_type": "code",
      "source": [
        "!jupyter nbconvert --to html Prerequsite_test_ML.ipynb"
      ],
      "metadata": {
        "colab": {
          "base_uri": "https://localhost:8080/"
        },
        "id": "OGuO7Sa7Qr_h",
        "outputId": "13e5ef6c-6d76-47a7-8be3-30ffd4ab718d"
      },
      "execution_count": 15,
      "outputs": [
        {
          "output_type": "stream",
          "name": "stdout",
          "text": [
            "[NbConvertApp] Converting notebook Prerequsite_test_ML.ipynb to html\n",
            "[NbConvertApp] Writing 853819 bytes to Prerequsite_test_ML.html\n"
          ]
        }
      ]
    },
    {
      "cell_type": "code",
      "source": [],
      "metadata": {
        "id": "zS-XNckz9aaT"
      },
      "execution_count": null,
      "outputs": []
    }
  ]
}